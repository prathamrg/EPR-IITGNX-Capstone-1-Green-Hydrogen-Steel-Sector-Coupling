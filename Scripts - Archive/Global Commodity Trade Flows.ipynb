{
 "cells": [
  {
   "cell_type": "code",
   "execution_count": 3,
   "metadata": {},
   "outputs": [],
   "source": [
    "import plotly.io as pio\n",
    "pio.renderers.default='notebook'"
   ]
  },
  {
   "cell_type": "code",
   "execution_count": 2,
   "metadata": {},
   "outputs": [],
   "source": [
    "import pandas as pd\n",
    "import plotly.express as px\n",
    "import plotly.graph_objects as go"
   ]
  },
  {
   "cell_type": "code",
   "execution_count": 72,
   "metadata": {},
   "outputs": [],
   "source": [
    "FILE_H2       = \"TradeData_H2.xlsx\"\n",
    "FILE_NH3      = \"TradeData_NH3.xlsx\"\n",
    "FILE_FE_STEEL = \"TradeData_IronSteel.xlsx\""
   ]
  },
  {
   "cell_type": "code",
   "execution_count": 73,
   "metadata": {},
   "outputs": [],
   "source": [
    "df_h2 = pd.read_excel(FILE_H2, engine=\"openpyxl\")"
   ]
  },
  {
   "cell_type": "code",
   "execution_count": 74,
   "metadata": {},
   "outputs": [],
   "source": [
    "df_nh3 = pd.read_excel(FILE_NH3, engine=\"openpyxl\")"
   ]
  },
  {
   "cell_type": "code",
   "execution_count": 75,
   "metadata": {},
   "outputs": [],
   "source": [
    "df_ironsteel = pd.read_excel(FILE_FE_STEEL, engine=\"openpyxl\")"
   ]
  },
  {
   "cell_type": "code",
   "execution_count": 76,
   "metadata": {},
   "outputs": [
    {
     "data": {
      "text/html": [
       "<div>\n",
       "<style scoped>\n",
       "    .dataframe tbody tr th:only-of-type {\n",
       "        vertical-align: middle;\n",
       "    }\n",
       "\n",
       "    .dataframe tbody tr th {\n",
       "        vertical-align: top;\n",
       "    }\n",
       "\n",
       "    .dataframe thead th {\n",
       "        text-align: right;\n",
       "    }\n",
       "</style>\n",
       "<table border=\"1\" class=\"dataframe\">\n",
       "  <thead>\n",
       "    <tr style=\"text-align: right;\">\n",
       "      <th></th>\n",
       "      <th>typeCode</th>\n",
       "      <th>freqCode</th>\n",
       "      <th>refPeriodId</th>\n",
       "      <th>refYear</th>\n",
       "      <th>refMonth</th>\n",
       "      <th>period</th>\n",
       "      <th>reporterCode</th>\n",
       "      <th>reporterISO</th>\n",
       "      <th>reporterDesc</th>\n",
       "      <th>flowCode</th>\n",
       "      <th>...</th>\n",
       "      <th>netWgt</th>\n",
       "      <th>isNetWgtEstimated</th>\n",
       "      <th>grossWgt</th>\n",
       "      <th>isGrossWgtEstimated</th>\n",
       "      <th>cifvalue</th>\n",
       "      <th>fobvalue</th>\n",
       "      <th>primaryValue</th>\n",
       "      <th>legacyEstimationFlag</th>\n",
       "      <th>isReported</th>\n",
       "      <th>isAggregate</th>\n",
       "    </tr>\n",
       "  </thead>\n",
       "  <tbody>\n",
       "    <tr>\n",
       "      <th>0</th>\n",
       "      <td>C</td>\n",
       "      <td>A</td>\n",
       "      <td>20130101</td>\n",
       "      <td>2013</td>\n",
       "      <td>52</td>\n",
       "      <td>2013</td>\n",
       "      <td>8</td>\n",
       "      <td>ALB</td>\n",
       "      <td>Albania</td>\n",
       "      <td>X</td>\n",
       "      <td>...</td>\n",
       "      <td>NaN</td>\n",
       "      <td>False</td>\n",
       "      <td>NaN</td>\n",
       "      <td>False</td>\n",
       "      <td>NaN</td>\n",
       "      <td>198015063.0</td>\n",
       "      <td>198015063.0</td>\n",
       "      <td>0</td>\n",
       "      <td>True</td>\n",
       "      <td>False</td>\n",
       "    </tr>\n",
       "    <tr>\n",
       "      <th>1</th>\n",
       "      <td>C</td>\n",
       "      <td>A</td>\n",
       "      <td>20130101</td>\n",
       "      <td>2013</td>\n",
       "      <td>52</td>\n",
       "      <td>2013</td>\n",
       "      <td>8</td>\n",
       "      <td>ALB</td>\n",
       "      <td>Albania</td>\n",
       "      <td>X</td>\n",
       "      <td>...</td>\n",
       "      <td>NaN</td>\n",
       "      <td>False</td>\n",
       "      <td>NaN</td>\n",
       "      <td>False</td>\n",
       "      <td>NaN</td>\n",
       "      <td>5113864.0</td>\n",
       "      <td>5113864.0</td>\n",
       "      <td>0</td>\n",
       "      <td>True</td>\n",
       "      <td>False</td>\n",
       "    </tr>\n",
       "    <tr>\n",
       "      <th>2</th>\n",
       "      <td>C</td>\n",
       "      <td>A</td>\n",
       "      <td>20130101</td>\n",
       "      <td>2013</td>\n",
       "      <td>52</td>\n",
       "      <td>2013</td>\n",
       "      <td>8</td>\n",
       "      <td>ALB</td>\n",
       "      <td>Albania</td>\n",
       "      <td>X</td>\n",
       "      <td>...</td>\n",
       "      <td>NaN</td>\n",
       "      <td>False</td>\n",
       "      <td>NaN</td>\n",
       "      <td>False</td>\n",
       "      <td>NaN</td>\n",
       "      <td>252265.0</td>\n",
       "      <td>252265.0</td>\n",
       "      <td>0</td>\n",
       "      <td>True</td>\n",
       "      <td>False</td>\n",
       "    </tr>\n",
       "    <tr>\n",
       "      <th>3</th>\n",
       "      <td>C</td>\n",
       "      <td>A</td>\n",
       "      <td>20130101</td>\n",
       "      <td>2013</td>\n",
       "      <td>52</td>\n",
       "      <td>2013</td>\n",
       "      <td>8</td>\n",
       "      <td>ALB</td>\n",
       "      <td>Albania</td>\n",
       "      <td>X</td>\n",
       "      <td>...</td>\n",
       "      <td>NaN</td>\n",
       "      <td>False</td>\n",
       "      <td>NaN</td>\n",
       "      <td>False</td>\n",
       "      <td>NaN</td>\n",
       "      <td>48971.0</td>\n",
       "      <td>48971.0</td>\n",
       "      <td>0</td>\n",
       "      <td>True</td>\n",
       "      <td>False</td>\n",
       "    </tr>\n",
       "    <tr>\n",
       "      <th>4</th>\n",
       "      <td>C</td>\n",
       "      <td>A</td>\n",
       "      <td>20130101</td>\n",
       "      <td>2013</td>\n",
       "      <td>52</td>\n",
       "      <td>2013</td>\n",
       "      <td>8</td>\n",
       "      <td>ALB</td>\n",
       "      <td>Albania</td>\n",
       "      <td>X</td>\n",
       "      <td>...</td>\n",
       "      <td>NaN</td>\n",
       "      <td>False</td>\n",
       "      <td>NaN</td>\n",
       "      <td>False</td>\n",
       "      <td>NaN</td>\n",
       "      <td>1600970.0</td>\n",
       "      <td>1600970.0</td>\n",
       "      <td>0</td>\n",
       "      <td>True</td>\n",
       "      <td>False</td>\n",
       "    </tr>\n",
       "  </tbody>\n",
       "</table>\n",
       "<p>5 rows × 47 columns</p>\n",
       "</div>"
      ],
      "text/plain": [
       "  typeCode freqCode  refPeriodId  refYear  refMonth  period  reporterCode  \\\n",
       "0        C        A     20130101     2013        52    2013             8   \n",
       "1        C        A     20130101     2013        52    2013             8   \n",
       "2        C        A     20130101     2013        52    2013             8   \n",
       "3        C        A     20130101     2013        52    2013             8   \n",
       "4        C        A     20130101     2013        52    2013             8   \n",
       "\n",
       "  reporterISO reporterDesc flowCode  ... netWgt  isNetWgtEstimated grossWgt  \\\n",
       "0         ALB      Albania        X  ...    NaN              False      NaN   \n",
       "1         ALB      Albania        X  ...    NaN              False      NaN   \n",
       "2         ALB      Albania        X  ...    NaN              False      NaN   \n",
       "3         ALB      Albania        X  ...    NaN              False      NaN   \n",
       "4         ALB      Albania        X  ...    NaN              False      NaN   \n",
       "\n",
       "  isGrossWgtEstimated  cifvalue     fobvalue primaryValue  \\\n",
       "0               False       NaN  198015063.0  198015063.0   \n",
       "1               False       NaN    5113864.0    5113864.0   \n",
       "2               False       NaN     252265.0     252265.0   \n",
       "3               False       NaN      48971.0      48971.0   \n",
       "4               False       NaN    1600970.0    1600970.0   \n",
       "\n",
       "  legacyEstimationFlag isReported  isAggregate  \n",
       "0                    0       True        False  \n",
       "1                    0       True        False  \n",
       "2                    0       True        False  \n",
       "3                    0       True        False  \n",
       "4                    0       True        False  \n",
       "\n",
       "[5 rows x 47 columns]"
      ]
     },
     "execution_count": 76,
     "metadata": {},
     "output_type": "execute_result"
    }
   ],
   "source": [
    "df_ironsteel.head()"
   ]
  },
  {
   "cell_type": "code",
   "execution_count": 77,
   "metadata": {},
   "outputs": [
    {
     "data": {
      "text/html": [
       "<div>\n",
       "<style scoped>\n",
       "    .dataframe tbody tr th:only-of-type {\n",
       "        vertical-align: middle;\n",
       "    }\n",
       "\n",
       "    .dataframe tbody tr th {\n",
       "        vertical-align: top;\n",
       "    }\n",
       "\n",
       "    .dataframe thead th {\n",
       "        text-align: right;\n",
       "    }\n",
       "</style>\n",
       "<table border=\"1\" class=\"dataframe\">\n",
       "  <thead>\n",
       "    <tr style=\"text-align: right;\">\n",
       "      <th></th>\n",
       "      <th>typeCode</th>\n",
       "      <th>freqCode</th>\n",
       "      <th>refPeriodId</th>\n",
       "      <th>refYear</th>\n",
       "      <th>refMonth</th>\n",
       "      <th>period</th>\n",
       "      <th>reporterCode</th>\n",
       "      <th>reporterISO</th>\n",
       "      <th>reporterDesc</th>\n",
       "      <th>flowCode</th>\n",
       "      <th>...</th>\n",
       "      <th>netWgt</th>\n",
       "      <th>isNetWgtEstimated</th>\n",
       "      <th>grossWgt</th>\n",
       "      <th>isGrossWgtEstimated</th>\n",
       "      <th>cifvalue</th>\n",
       "      <th>fobvalue</th>\n",
       "      <th>primaryValue</th>\n",
       "      <th>legacyEstimationFlag</th>\n",
       "      <th>isReported</th>\n",
       "      <th>isAggregate</th>\n",
       "    </tr>\n",
       "  </thead>\n",
       "  <tbody>\n",
       "    <tr>\n",
       "      <th>0</th>\n",
       "      <td>C</td>\n",
       "      <td>A</td>\n",
       "      <td>20130101</td>\n",
       "      <td>2013</td>\n",
       "      <td>52</td>\n",
       "      <td>2013</td>\n",
       "      <td>12</td>\n",
       "      <td>DZA</td>\n",
       "      <td>Algeria</td>\n",
       "      <td>X</td>\n",
       "      <td>...</td>\n",
       "      <td>605196084.0</td>\n",
       "      <td>False</td>\n",
       "      <td>NaN</td>\n",
       "      <td>False</td>\n",
       "      <td>NaN</td>\n",
       "      <td>303850805.0</td>\n",
       "      <td>303850805.0</td>\n",
       "      <td>0</td>\n",
       "      <td>True</td>\n",
       "      <td>False</td>\n",
       "    </tr>\n",
       "    <tr>\n",
       "      <th>1</th>\n",
       "      <td>C</td>\n",
       "      <td>A</td>\n",
       "      <td>20130101</td>\n",
       "      <td>2013</td>\n",
       "      <td>52</td>\n",
       "      <td>2013</td>\n",
       "      <td>12</td>\n",
       "      <td>DZA</td>\n",
       "      <td>Algeria</td>\n",
       "      <td>X</td>\n",
       "      <td>...</td>\n",
       "      <td>186670786.0</td>\n",
       "      <td>False</td>\n",
       "      <td>NaN</td>\n",
       "      <td>False</td>\n",
       "      <td>NaN</td>\n",
       "      <td>94332906.0</td>\n",
       "      <td>94332906.0</td>\n",
       "      <td>0</td>\n",
       "      <td>True</td>\n",
       "      <td>False</td>\n",
       "    </tr>\n",
       "    <tr>\n",
       "      <th>2</th>\n",
       "      <td>C</td>\n",
       "      <td>A</td>\n",
       "      <td>20130101</td>\n",
       "      <td>2013</td>\n",
       "      <td>52</td>\n",
       "      <td>2013</td>\n",
       "      <td>12</td>\n",
       "      <td>DZA</td>\n",
       "      <td>Algeria</td>\n",
       "      <td>X</td>\n",
       "      <td>...</td>\n",
       "      <td>7999317.0</td>\n",
       "      <td>False</td>\n",
       "      <td>NaN</td>\n",
       "      <td>False</td>\n",
       "      <td>NaN</td>\n",
       "      <td>3619600.0</td>\n",
       "      <td>3619600.0</td>\n",
       "      <td>0</td>\n",
       "      <td>True</td>\n",
       "      <td>False</td>\n",
       "    </tr>\n",
       "    <tr>\n",
       "      <th>3</th>\n",
       "      <td>C</td>\n",
       "      <td>A</td>\n",
       "      <td>20130101</td>\n",
       "      <td>2013</td>\n",
       "      <td>52</td>\n",
       "      <td>2013</td>\n",
       "      <td>12</td>\n",
       "      <td>DZA</td>\n",
       "      <td>Algeria</td>\n",
       "      <td>X</td>\n",
       "      <td>...</td>\n",
       "      <td>9000000.0</td>\n",
       "      <td>False</td>\n",
       "      <td>NaN</td>\n",
       "      <td>False</td>\n",
       "      <td>NaN</td>\n",
       "      <td>3940734.0</td>\n",
       "      <td>3940734.0</td>\n",
       "      <td>0</td>\n",
       "      <td>True</td>\n",
       "      <td>False</td>\n",
       "    </tr>\n",
       "    <tr>\n",
       "      <th>4</th>\n",
       "      <td>C</td>\n",
       "      <td>A</td>\n",
       "      <td>20130101</td>\n",
       "      <td>2013</td>\n",
       "      <td>52</td>\n",
       "      <td>2013</td>\n",
       "      <td>12</td>\n",
       "      <td>DZA</td>\n",
       "      <td>Algeria</td>\n",
       "      <td>X</td>\n",
       "      <td>...</td>\n",
       "      <td>56602923.0</td>\n",
       "      <td>False</td>\n",
       "      <td>NaN</td>\n",
       "      <td>False</td>\n",
       "      <td>NaN</td>\n",
       "      <td>29573242.0</td>\n",
       "      <td>29573242.0</td>\n",
       "      <td>0</td>\n",
       "      <td>True</td>\n",
       "      <td>False</td>\n",
       "    </tr>\n",
       "  </tbody>\n",
       "</table>\n",
       "<p>5 rows × 47 columns</p>\n",
       "</div>"
      ],
      "text/plain": [
       "  typeCode freqCode  refPeriodId  refYear  refMonth  period  reporterCode  \\\n",
       "0        C        A     20130101     2013        52    2013            12   \n",
       "1        C        A     20130101     2013        52    2013            12   \n",
       "2        C        A     20130101     2013        52    2013            12   \n",
       "3        C        A     20130101     2013        52    2013            12   \n",
       "4        C        A     20130101     2013        52    2013            12   \n",
       "\n",
       "  reporterISO reporterDesc flowCode  ...       netWgt  isNetWgtEstimated  \\\n",
       "0         DZA      Algeria        X  ...  605196084.0              False   \n",
       "1         DZA      Algeria        X  ...  186670786.0              False   \n",
       "2         DZA      Algeria        X  ...    7999317.0              False   \n",
       "3         DZA      Algeria        X  ...    9000000.0              False   \n",
       "4         DZA      Algeria        X  ...   56602923.0              False   \n",
       "\n",
       "  grossWgt isGrossWgtEstimated  cifvalue     fobvalue primaryValue  \\\n",
       "0      NaN               False       NaN  303850805.0  303850805.0   \n",
       "1      NaN               False       NaN   94332906.0   94332906.0   \n",
       "2      NaN               False       NaN    3619600.0    3619600.0   \n",
       "3      NaN               False       NaN    3940734.0    3940734.0   \n",
       "4      NaN               False       NaN   29573242.0   29573242.0   \n",
       "\n",
       "  legacyEstimationFlag isReported  isAggregate  \n",
       "0                    0       True        False  \n",
       "1                    0       True        False  \n",
       "2                    0       True        False  \n",
       "3                    0       True        False  \n",
       "4                    0       True        False  \n",
       "\n",
       "[5 rows x 47 columns]"
      ]
     },
     "execution_count": 77,
     "metadata": {},
     "output_type": "execute_result"
    }
   ],
   "source": [
    "df_nh3.head()"
   ]
  },
  {
   "cell_type": "code",
   "execution_count": 5,
   "metadata": {},
   "outputs": [
    {
     "data": {
      "text/html": [
       "<div>\n",
       "<style scoped>\n",
       "    .dataframe tbody tr th:only-of-type {\n",
       "        vertical-align: middle;\n",
       "    }\n",
       "\n",
       "    .dataframe tbody tr th {\n",
       "        vertical-align: top;\n",
       "    }\n",
       "\n",
       "    .dataframe thead th {\n",
       "        text-align: right;\n",
       "    }\n",
       "</style>\n",
       "<table border=\"1\" class=\"dataframe\">\n",
       "  <thead>\n",
       "    <tr style=\"text-align: right;\">\n",
       "      <th></th>\n",
       "      <th>typeCode</th>\n",
       "      <th>freqCode</th>\n",
       "      <th>refPeriodId</th>\n",
       "      <th>refYear</th>\n",
       "      <th>refMonth</th>\n",
       "      <th>period</th>\n",
       "      <th>reporterCode</th>\n",
       "      <th>reporterISO</th>\n",
       "      <th>reporterDesc</th>\n",
       "      <th>flowCode</th>\n",
       "      <th>...</th>\n",
       "      <th>netWgt</th>\n",
       "      <th>isNetWgtEstimated</th>\n",
       "      <th>grossWgt</th>\n",
       "      <th>isGrossWgtEstimated</th>\n",
       "      <th>cifvalue</th>\n",
       "      <th>fobvalue</th>\n",
       "      <th>primaryValue</th>\n",
       "      <th>legacyEstimationFlag</th>\n",
       "      <th>isReported</th>\n",
       "      <th>isAggregate</th>\n",
       "    </tr>\n",
       "  </thead>\n",
       "  <tbody>\n",
       "    <tr>\n",
       "      <th>0</th>\n",
       "      <td>C</td>\n",
       "      <td>A</td>\n",
       "      <td>20130101</td>\n",
       "      <td>2013</td>\n",
       "      <td>52</td>\n",
       "      <td>2013</td>\n",
       "      <td>32</td>\n",
       "      <td>ARG</td>\n",
       "      <td>Argentina</td>\n",
       "      <td>X</td>\n",
       "      <td>...</td>\n",
       "      <td>6.0</td>\n",
       "      <td>False</td>\n",
       "      <td>NaN</td>\n",
       "      <td>False</td>\n",
       "      <td>NaN</td>\n",
       "      <td>594.0</td>\n",
       "      <td>594.0</td>\n",
       "      <td>0</td>\n",
       "      <td>True</td>\n",
       "      <td>False</td>\n",
       "    </tr>\n",
       "    <tr>\n",
       "      <th>1</th>\n",
       "      <td>C</td>\n",
       "      <td>A</td>\n",
       "      <td>20130101</td>\n",
       "      <td>2013</td>\n",
       "      <td>52</td>\n",
       "      <td>2013</td>\n",
       "      <td>32</td>\n",
       "      <td>ARG</td>\n",
       "      <td>Argentina</td>\n",
       "      <td>X</td>\n",
       "      <td>...</td>\n",
       "      <td>6.0</td>\n",
       "      <td>False</td>\n",
       "      <td>NaN</td>\n",
       "      <td>False</td>\n",
       "      <td>NaN</td>\n",
       "      <td>594.0</td>\n",
       "      <td>594.0</td>\n",
       "      <td>0</td>\n",
       "      <td>True</td>\n",
       "      <td>False</td>\n",
       "    </tr>\n",
       "    <tr>\n",
       "      <th>2</th>\n",
       "      <td>C</td>\n",
       "      <td>A</td>\n",
       "      <td>20130101</td>\n",
       "      <td>2013</td>\n",
       "      <td>52</td>\n",
       "      <td>2013</td>\n",
       "      <td>36</td>\n",
       "      <td>AUS</td>\n",
       "      <td>Australia</td>\n",
       "      <td>X</td>\n",
       "      <td>...</td>\n",
       "      <td>5605.0</td>\n",
       "      <td>False</td>\n",
       "      <td>NaN</td>\n",
       "      <td>False</td>\n",
       "      <td>NaN</td>\n",
       "      <td>16282.0</td>\n",
       "      <td>16282.0</td>\n",
       "      <td>0</td>\n",
       "      <td>True</td>\n",
       "      <td>False</td>\n",
       "    </tr>\n",
       "    <tr>\n",
       "      <th>3</th>\n",
       "      <td>C</td>\n",
       "      <td>A</td>\n",
       "      <td>20130101</td>\n",
       "      <td>2013</td>\n",
       "      <td>52</td>\n",
       "      <td>2013</td>\n",
       "      <td>36</td>\n",
       "      <td>AUS</td>\n",
       "      <td>Australia</td>\n",
       "      <td>X</td>\n",
       "      <td>...</td>\n",
       "      <td>683.0</td>\n",
       "      <td>False</td>\n",
       "      <td>NaN</td>\n",
       "      <td>False</td>\n",
       "      <td>NaN</td>\n",
       "      <td>73.0</td>\n",
       "      <td>73.0</td>\n",
       "      <td>0</td>\n",
       "      <td>True</td>\n",
       "      <td>False</td>\n",
       "    </tr>\n",
       "    <tr>\n",
       "      <th>4</th>\n",
       "      <td>C</td>\n",
       "      <td>A</td>\n",
       "      <td>20130101</td>\n",
       "      <td>2013</td>\n",
       "      <td>52</td>\n",
       "      <td>2013</td>\n",
       "      <td>36</td>\n",
       "      <td>AUS</td>\n",
       "      <td>Australia</td>\n",
       "      <td>X</td>\n",
       "      <td>...</td>\n",
       "      <td>2.0</td>\n",
       "      <td>False</td>\n",
       "      <td>NaN</td>\n",
       "      <td>False</td>\n",
       "      <td>NaN</td>\n",
       "      <td>381.0</td>\n",
       "      <td>381.0</td>\n",
       "      <td>0</td>\n",
       "      <td>True</td>\n",
       "      <td>False</td>\n",
       "    </tr>\n",
       "  </tbody>\n",
       "</table>\n",
       "<p>5 rows × 47 columns</p>\n",
       "</div>"
      ],
      "text/plain": [
       "  typeCode freqCode  refPeriodId  refYear  refMonth  period  reporterCode  \\\n",
       "0        C        A     20130101     2013        52    2013            32   \n",
       "1        C        A     20130101     2013        52    2013            32   \n",
       "2        C        A     20130101     2013        52    2013            36   \n",
       "3        C        A     20130101     2013        52    2013            36   \n",
       "4        C        A     20130101     2013        52    2013            36   \n",
       "\n",
       "  reporterISO reporterDesc flowCode  ...  netWgt  isNetWgtEstimated grossWgt  \\\n",
       "0         ARG    Argentina        X  ...     6.0              False      NaN   \n",
       "1         ARG    Argentina        X  ...     6.0              False      NaN   \n",
       "2         AUS    Australia        X  ...  5605.0              False      NaN   \n",
       "3         AUS    Australia        X  ...   683.0              False      NaN   \n",
       "4         AUS    Australia        X  ...     2.0              False      NaN   \n",
       "\n",
       "  isGrossWgtEstimated  cifvalue fobvalue primaryValue legacyEstimationFlag  \\\n",
       "0               False       NaN    594.0        594.0                    0   \n",
       "1               False       NaN    594.0        594.0                    0   \n",
       "2               False       NaN  16282.0      16282.0                    0   \n",
       "3               False       NaN     73.0         73.0                    0   \n",
       "4               False       NaN    381.0        381.0                    0   \n",
       "\n",
       "  isReported  isAggregate  \n",
       "0       True        False  \n",
       "1       True        False  \n",
       "2       True        False  \n",
       "3       True        False  \n",
       "4       True        False  \n",
       "\n",
       "[5 rows x 47 columns]"
      ]
     },
     "execution_count": 5,
     "metadata": {},
     "output_type": "execute_result"
    }
   ],
   "source": [
    "df_h2.head()"
   ]
  },
  {
   "cell_type": "code",
   "execution_count": 6,
   "metadata": {},
   "outputs": [
    {
     "data": {
      "text/plain": [
       "United Kingdom    424\n",
       "Germany           371\n",
       "Netherlands       318\n",
       "USA               302\n",
       "France            301\n",
       "                 ... \n",
       "Georgia             2\n",
       "Paraguay            2\n",
       "Kyrgyzstan          2\n",
       "Timor-Leste         2\n",
       "Honduras            2\n",
       "Name: reporterDesc, Length: 117, dtype: int64"
      ]
     },
     "execution_count": 6,
     "metadata": {},
     "output_type": "execute_result"
    }
   ],
   "source": [
    "df_h2[\"reporterDesc\"].value_counts()"
   ]
  },
  {
   "cell_type": "code",
   "execution_count": 7,
   "metadata": {},
   "outputs": [
    {
     "data": {
      "text/plain": [
       "World         793\n",
       "Germany       137\n",
       "USA           117\n",
       "France        107\n",
       "Belgium       104\n",
       "             ... \n",
       "Tajikistan      1\n",
       "Nauru           1\n",
       "Yemen           1\n",
       "Bahamas         1\n",
       "Maldives        1\n",
       "Name: partnerDesc, Length: 195, dtype: int64"
      ]
     },
     "execution_count": 7,
     "metadata": {},
     "output_type": "execute_result"
    }
   ],
   "source": [
    "df_h2[\"partnerDesc\"].value_counts()"
   ]
  },
  {
   "cell_type": "code",
   "execution_count": 8,
   "metadata": {},
   "outputs": [
    {
     "data": {
      "text/html": [
       "<div>\n",
       "<style scoped>\n",
       "    .dataframe tbody tr th:only-of-type {\n",
       "        vertical-align: middle;\n",
       "    }\n",
       "\n",
       "    .dataframe tbody tr th {\n",
       "        vertical-align: top;\n",
       "    }\n",
       "\n",
       "    .dataframe thead th {\n",
       "        text-align: right;\n",
       "    }\n",
       "</style>\n",
       "<table border=\"1\" class=\"dataframe\">\n",
       "  <thead>\n",
       "    <tr style=\"text-align: right;\">\n",
       "      <th></th>\n",
       "      <th>reporterDesc</th>\n",
       "      <th>partnerDesc</th>\n",
       "      <th>period</th>\n",
       "    </tr>\n",
       "  </thead>\n",
       "  <tbody>\n",
       "    <tr>\n",
       "      <th>276</th>\n",
       "      <td>Denmark</td>\n",
       "      <td>World</td>\n",
       "      <td>12</td>\n",
       "    </tr>\n",
       "    <tr>\n",
       "      <th>396</th>\n",
       "      <td>Germany</td>\n",
       "      <td>Austria</td>\n",
       "      <td>12</td>\n",
       "    </tr>\n",
       "    <tr>\n",
       "      <th>658</th>\n",
       "      <td>Malaysia</td>\n",
       "      <td>Singapore</td>\n",
       "      <td>12</td>\n",
       "    </tr>\n",
       "    <tr>\n",
       "      <th>415</th>\n",
       "      <td>Germany</td>\n",
       "      <td>Hungary</td>\n",
       "      <td>12</td>\n",
       "    </tr>\n",
       "    <tr>\n",
       "      <th>1156</th>\n",
       "      <td>Türkiye</td>\n",
       "      <td>World</td>\n",
       "      <td>12</td>\n",
       "    </tr>\n",
       "    <tr>\n",
       "      <th>...</th>\n",
       "      <td>...</td>\n",
       "      <td>...</td>\n",
       "      <td>...</td>\n",
       "    </tr>\n",
       "    <tr>\n",
       "      <th>914</th>\n",
       "      <td>Serbia</td>\n",
       "      <td>Germany</td>\n",
       "      <td>1</td>\n",
       "    </tr>\n",
       "    <tr>\n",
       "      <th>916</th>\n",
       "      <td>Serbia</td>\n",
       "      <td>Italy</td>\n",
       "      <td>1</td>\n",
       "    </tr>\n",
       "    <tr>\n",
       "      <th>305</th>\n",
       "      <td>Finland</td>\n",
       "      <td>Denmark</td>\n",
       "      <td>1</td>\n",
       "    </tr>\n",
       "    <tr>\n",
       "      <th>304</th>\n",
       "      <td>Finland</td>\n",
       "      <td>China</td>\n",
       "      <td>1</td>\n",
       "    </tr>\n",
       "    <tr>\n",
       "      <th>975</th>\n",
       "      <td>Slovenia</td>\n",
       "      <td>Greece</td>\n",
       "      <td>1</td>\n",
       "    </tr>\n",
       "  </tbody>\n",
       "</table>\n",
       "<p>1397 rows × 3 columns</p>\n",
       "</div>"
      ],
      "text/plain": [
       "     reporterDesc partnerDesc  period\n",
       "276       Denmark       World      12\n",
       "396       Germany     Austria      12\n",
       "658      Malaysia   Singapore      12\n",
       "415       Germany     Hungary      12\n",
       "1156      Türkiye       World      12\n",
       "...           ...         ...     ...\n",
       "914        Serbia     Germany       1\n",
       "916        Serbia       Italy       1\n",
       "305       Finland     Denmark       1\n",
       "304       Finland       China       1\n",
       "975      Slovenia      Greece       1\n",
       "\n",
       "[1397 rows x 3 columns]"
      ]
     },
     "execution_count": 8,
     "metadata": {},
     "output_type": "execute_result"
    }
   ],
   "source": [
    "df_h2[[\"reporterDesc\", \"partnerDesc\", \"period\"]].groupby([\"reporterDesc\", \"partnerDesc\"]).count().reset_index().sort_values(by=\"period\", ascending=False)"
   ]
  },
  {
   "cell_type": "code",
   "execution_count": 9,
   "metadata": {},
   "outputs": [
    {
     "data": {
      "text/plain": [
       "0       2013\n",
       "385     2013\n",
       "384     2013\n",
       "383     2013\n",
       "382     2013\n",
       "        ... \n",
       "5876    2024\n",
       "5877    2024\n",
       "5878    2024\n",
       "5867    2024\n",
       "6018    2024\n",
       "Name: period, Length: 6019, dtype: int64"
      ]
     },
     "execution_count": 9,
     "metadata": {},
     "output_type": "execute_result"
    }
   ],
   "source": [
    "df_h2[\"period\"].sort_values()"
   ]
  },
  {
   "cell_type": "code",
   "execution_count": 10,
   "metadata": {},
   "outputs": [],
   "source": [
    "recent_years = [2024, 2023, 2022, 2021, 2020, 2019, 2018, 2017, 2016, 2015]"
   ]
  },
  {
   "cell_type": "code",
   "execution_count": 11,
   "metadata": {},
   "outputs": [],
   "source": [
    "dfs = []\n",
    "for year in recent_years:\n",
    "    dfi = df_h2[df_h2[\"period\"]==year]\n",
    "    dfi = dfi[dfi[\"partnerDesc\"]!=\"World\"]\n",
    "    dfs.append(dfi[dfi[\"netWgt\"]==dfi[\"netWgt\"].max()])"
   ]
  },
  {
   "cell_type": "code",
   "execution_count": 12,
   "metadata": {},
   "outputs": [
    {
     "data": {
      "text/html": [
       "<div>\n",
       "<style scoped>\n",
       "    .dataframe tbody tr th:only-of-type {\n",
       "        vertical-align: middle;\n",
       "    }\n",
       "\n",
       "    .dataframe tbody tr th {\n",
       "        vertical-align: top;\n",
       "    }\n",
       "\n",
       "    .dataframe thead th {\n",
       "        text-align: right;\n",
       "    }\n",
       "</style>\n",
       "<table border=\"1\" class=\"dataframe\">\n",
       "  <thead>\n",
       "    <tr style=\"text-align: right;\">\n",
       "      <th></th>\n",
       "      <th>period</th>\n",
       "      <th>reporterDesc</th>\n",
       "      <th>partnerDesc</th>\n",
       "      <th>netWgt</th>\n",
       "    </tr>\n",
       "  </thead>\n",
       "  <tbody>\n",
       "    <tr>\n",
       "      <th>3480</th>\n",
       "      <td>2019</td>\n",
       "      <td>Netherlands</td>\n",
       "      <td>Belgium</td>\n",
       "      <td>33392100.0</td>\n",
       "    </tr>\n",
       "  </tbody>\n",
       "</table>\n",
       "</div>"
      ],
      "text/plain": [
       "      period reporterDesc partnerDesc      netWgt\n",
       "3480    2019  Netherlands     Belgium  33392100.0"
      ]
     },
     "execution_count": 12,
     "metadata": {},
     "output_type": "execute_result"
    }
   ],
   "source": [
    "dfs[5][[\"period\", \"reporterDesc\", \"partnerDesc\", \"netWgt\"]]"
   ]
  },
  {
   "cell_type": "code",
   "execution_count": 13,
   "metadata": {},
   "outputs": [
    {
     "data": {
      "text/plain": [
       "count     4258\n",
       "unique       2\n",
       "top         m³\n",
       "freq      4232\n",
       "Name: qtyUnitAbbr, dtype: object"
      ]
     },
     "execution_count": 13,
     "metadata": {},
     "output_type": "execute_result"
    }
   ],
   "source": [
    "df_h2[\"qtyUnitAbbr\"].describe()"
   ]
  },
  {
   "cell_type": "code",
   "execution_count": 14,
   "metadata": {},
   "outputs": [
    {
     "data": {
      "text/plain": [
       "Index(['typeCode', 'freqCode', 'refPeriodId', 'refYear', 'refMonth', 'period',\n",
       "       'reporterCode', 'reporterISO', 'reporterDesc', 'flowCode', 'flowDesc',\n",
       "       'partnerCode', 'partnerISO', 'partnerDesc', 'partner2Code',\n",
       "       'partner2ISO', 'partner2Desc', 'classificationCode',\n",
       "       'classificationSearchCode', 'isOriginalClassification', 'cmdCode',\n",
       "       'cmdDesc', 'aggrLevel', 'isLeaf', 'customsCode', 'customsDesc',\n",
       "       'mosCode', 'motCode', 'motDesc', 'qtyUnitCode', 'qtyUnitAbbr', 'qty',\n",
       "       'isQtyEstimated', 'altQtyUnitCode', 'altQtyUnitAbbr', 'altQty',\n",
       "       'isAltQtyEstimated', 'netWgt', 'isNetWgtEstimated', 'grossWgt',\n",
       "       'isGrossWgtEstimated', 'cifvalue', 'fobvalue', 'primaryValue',\n",
       "       'legacyEstimationFlag', 'isReported', 'isAggregate'],\n",
       "      dtype='object')"
      ]
     },
     "execution_count": 14,
     "metadata": {},
     "output_type": "execute_result"
    }
   ],
   "source": [
    "df_h2.columns"
   ]
  },
  {
   "cell_type": "code",
   "execution_count": 15,
   "metadata": {},
   "outputs": [
    {
     "data": {
      "text/html": [
       "<div>\n",
       "<style scoped>\n",
       "    .dataframe tbody tr th:only-of-type {\n",
       "        vertical-align: middle;\n",
       "    }\n",
       "\n",
       "    .dataframe tbody tr th {\n",
       "        vertical-align: top;\n",
       "    }\n",
       "\n",
       "    .dataframe thead th {\n",
       "        text-align: right;\n",
       "    }\n",
       "</style>\n",
       "<table border=\"1\" class=\"dataframe\">\n",
       "  <thead>\n",
       "    <tr style=\"text-align: right;\">\n",
       "      <th></th>\n",
       "      <th>typeCode</th>\n",
       "      <th>freqCode</th>\n",
       "      <th>refPeriodId</th>\n",
       "      <th>refYear</th>\n",
       "      <th>refMonth</th>\n",
       "      <th>period</th>\n",
       "      <th>reporterCode</th>\n",
       "      <th>reporterISO</th>\n",
       "      <th>reporterDesc</th>\n",
       "      <th>flowCode</th>\n",
       "      <th>...</th>\n",
       "      <th>netWgt</th>\n",
       "      <th>isNetWgtEstimated</th>\n",
       "      <th>grossWgt</th>\n",
       "      <th>isGrossWgtEstimated</th>\n",
       "      <th>cifvalue</th>\n",
       "      <th>fobvalue</th>\n",
       "      <th>primaryValue</th>\n",
       "      <th>legacyEstimationFlag</th>\n",
       "      <th>isReported</th>\n",
       "      <th>isAggregate</th>\n",
       "    </tr>\n",
       "  </thead>\n",
       "  <tbody>\n",
       "    <tr>\n",
       "      <th>5811</th>\n",
       "      <td>C</td>\n",
       "      <td>A</td>\n",
       "      <td>20240101</td>\n",
       "      <td>2024</td>\n",
       "      <td>52</td>\n",
       "      <td>2024</td>\n",
       "      <td>124</td>\n",
       "      <td>CAN</td>\n",
       "      <td>Canada</td>\n",
       "      <td>X</td>\n",
       "      <td>...</td>\n",
       "      <td>33519300.0</td>\n",
       "      <td>False</td>\n",
       "      <td>0.0</td>\n",
       "      <td>False</td>\n",
       "      <td>NaN</td>\n",
       "      <td>6.694758e+07</td>\n",
       "      <td>6.694758e+07</td>\n",
       "      <td>0</td>\n",
       "      <td>False</td>\n",
       "      <td>True</td>\n",
       "    </tr>\n",
       "  </tbody>\n",
       "</table>\n",
       "<p>1 rows × 47 columns</p>\n",
       "</div>"
      ],
      "text/plain": [
       "     typeCode freqCode  refPeriodId  refYear  refMonth  period  reporterCode  \\\n",
       "5811        C        A     20240101     2024        52    2024           124   \n",
       "\n",
       "     reporterISO reporterDesc flowCode  ...      netWgt  isNetWgtEstimated  \\\n",
       "5811         CAN       Canada        X  ...  33519300.0              False   \n",
       "\n",
       "     grossWgt isGrossWgtEstimated  cifvalue      fobvalue  primaryValue  \\\n",
       "5811      0.0               False       NaN  6.694758e+07  6.694758e+07   \n",
       "\n",
       "     legacyEstimationFlag isReported  isAggregate  \n",
       "5811                    0      False         True  \n",
       "\n",
       "[1 rows x 47 columns]"
      ]
     },
     "execution_count": 15,
     "metadata": {},
     "output_type": "execute_result"
    }
   ],
   "source": [
    "dfs[0]"
   ]
  },
  {
   "cell_type": "code",
   "execution_count": null,
   "metadata": {},
   "outputs": [],
   "source": []
  },
  {
   "cell_type": "code",
   "execution_count": null,
   "metadata": {},
   "outputs": [],
   "source": []
  },
  {
   "cell_type": "code",
   "execution_count": 36,
   "metadata": {},
   "outputs": [
    {
     "data": {
      "text/plain": [
       "Index(['typeCode', 'freqCode', 'refPeriodId', 'refYear', 'refMonth', 'period',\n",
       "       'reporterCode', 'reporterISO', 'reporterDesc', 'flowCode', 'flowDesc',\n",
       "       'partnerCode', 'partnerISO', 'partnerDesc', 'partner2Code',\n",
       "       'partner2ISO', 'partner2Desc', 'classificationCode',\n",
       "       'classificationSearchCode', 'isOriginalClassification', 'cmdCode',\n",
       "       'cmdDesc', 'aggrLevel', 'isLeaf', 'customsCode', 'customsDesc',\n",
       "       'mosCode', 'motCode', 'motDesc', 'qtyUnitCode', 'qtyUnitAbbr', 'qty',\n",
       "       'isQtyEstimated', 'altQtyUnitCode', 'altQtyUnitAbbr', 'altQty',\n",
       "       'isAltQtyEstimated', 'netWgt', 'isNetWgtEstimated', 'grossWgt',\n",
       "       'isGrossWgtEstimated', 'cifvalue', 'fobvalue', 'primaryValue',\n",
       "       'legacyEstimationFlag', 'isReported', 'isAggregate'],\n",
       "      dtype='object')"
      ]
     },
     "execution_count": 36,
     "metadata": {},
     "output_type": "execute_result"
    }
   ],
   "source": [
    "data.columns"
   ]
  },
  {
   "cell_type": "markdown",
   "metadata": {},
   "source": [
    "<h3> Sankey </h3>"
   ]
  },
  {
   "cell_type": "code",
   "execution_count": 78,
   "metadata": {},
   "outputs": [],
   "source": [
    "def plot_sankey(data, commodity):\n",
    "\n",
    "    trade_data = data[['reporterDesc', 'partnerDesc', 'primaryValue', 'netWgt', 'flowCode']]\n",
    "    trade_data = trade_data[trade_data['flowCode'] == 'X']\n",
    "\n",
    "    # Grouping by exporter and importer, summing the trade value\n",
    "    trade_data_grouped = trade_data.groupby(['reporterDesc', 'partnerDesc'], as_index=False).sum(numeric_only=True)\n",
    "\n",
    "\n",
    "    trade_data_grouped = trade_data_grouped[trade_data_grouped[\"partnerDesc\"]!=\"World\"]\n",
    "    trade_data_grouped = trade_data_grouped.sort_values(by=\"primaryValue\", ascending=False).reset_index().drop(columns=\"index\")\n",
    "    trade_data_grouped = trade_data_grouped.head(10)\n",
    "    \n",
    "    print(trade_data_grouped)\n",
    "\n",
    "    sources = trade_data_grouped['reporterDesc'].tolist()\n",
    "    targets = trade_data_grouped['partnerDesc'].tolist()\n",
    "    values  = trade_data_grouped[['primaryValue', 'netWgt']].values\n",
    "\n",
    "    # Creating a list of unique countries for nodes\n",
    "    all_countries = list(set(sources + targets))\n",
    "\n",
    "    # Mapping countries to node indices\n",
    "    source_indices = [all_countries.index(country) for country in sources]\n",
    "    target_indices = [all_countries.index(country) for country in targets]\n",
    "\n",
    "    # Creating the Sankey diagram\n",
    "    fig = go.Figure(data=[go.Sankey(\n",
    "        node=dict(\n",
    "            pad=15,\n",
    "            thickness=20,\n",
    "            line=dict(color='black', width=0.5),\n",
    "            label=all_countries\n",
    "        ),\n",
    "        link=dict(\n",
    "            source=source_indices,\n",
    "            target=target_indices,\n",
    "            value=[v[0] for v in values],\n",
    "        label=[f'{s} → {t}: ${round(v[0]/1000000,2)}M, {round(v[1]/1000000,0)} million tonnes' for s, t, v in zip(sources, targets, values)]\n",
    "        )\n",
    "    )])\n",
    "\n",
    "\n",
    "    fig.update_layout(title_text=f'Global {commodity} Trade Flows', font_size=10)\n",
    "    fig.show()"
   ]
  },
  {
   "cell_type": "markdown",
   "metadata": {},
   "source": [
    "<h3> Global Hydrogen Trade Flows </h3>\n",
    "<h4> 2013 - Present </h4>"
   ]
  },
  {
   "cell_type": "code",
   "execution_count": 81,
   "metadata": {},
   "outputs": [
    {
     "name": "stdout",
     "output_type": "stream",
     "text": [
      "  reporterDesc  partnerDesc  primaryValue        netWgt\n",
      "0       Canada          USA  6.832922e+08  3.202998e+08\n",
      "1      Belgium  Netherlands  3.404488e+08  9.465227e+07\n",
      "2  Netherlands      Belgium  2.883208e+08  1.497154e+08\n",
      "3  Netherlands       France  1.852783e+08  4.862713e+07\n",
      "4  Netherlands      Germany  6.921852e+07  1.178069e+07\n",
      "5          USA       Canada  6.476219e+07  9.426696e+06\n",
      "6          USA       Mexico  4.337610e+07  5.960158e+06\n",
      "7      Belgium   Luxembourg  3.037714e+07  6.470630e+06\n",
      "8     Malaysia    Singapore  2.984616e+07  3.640757e+06\n",
      "9      Germany       France  2.698614e+07  4.355784e+06\n"
     ]
    },
    {
     "data": {
      "text/html": [
       "<iframe\n",
       "    scrolling=\"no\"\n",
       "    width=\"100%\"\n",
       "    height=\"545px\"\n",
       "    src=\"iframe_figures/figure_81.html\"\n",
       "    frameborder=\"0\"\n",
       "    allowfullscreen\n",
       "></iframe>\n"
      ]
     },
     "metadata": {},
     "output_type": "display_data"
    }
   ],
   "source": [
    "plot_sankey(df_h2, \"Hydrogen\")"
   ]
  },
  {
   "cell_type": "markdown",
   "metadata": {},
   "source": [
    "<h3> Global Ammonia Trade Flows </h3>\n",
    "<h4> 2013 - Present </h4>"
   ]
  },
  {
   "cell_type": "code",
   "execution_count": 82,
   "metadata": {},
   "outputs": [
    {
     "name": "stdout",
     "output_type": "stream",
     "text": [
      "          reporterDesc    partnerDesc  primaryValue        netWgt\n",
      "0  Trinidad and Tobago            USA  9.696355e+09  2.301892e+10\n",
      "1               Canada            USA  7.951072e+09  1.327416e+10\n",
      "2         Saudi Arabia          India  7.833223e+09  2.131427e+10\n",
      "3   Russian Federation        Ukraine  4.838708e+09  1.464753e+10\n",
      "4         Saudi Arabia  Rep. of Korea  2.052629e+09  4.924877e+09\n",
      "5                 Iran          India  1.890382e+09  5.328734e+09\n",
      "6  Trinidad and Tobago        Morocco  1.855773e+09  4.093073e+09\n",
      "7            Indonesia  Rep. of Korea  1.708541e+09  3.901391e+09\n",
      "8          Netherlands        Germany  1.673182e+09  3.104838e+09\n",
      "9                Qatar          India  1.546077e+09  0.000000e+00\n"
     ]
    },
    {
     "data": {
      "text/html": [
       "<iframe\n",
       "    scrolling=\"no\"\n",
       "    width=\"100%\"\n",
       "    height=\"545px\"\n",
       "    src=\"iframe_figures/figure_82.html\"\n",
       "    frameborder=\"0\"\n",
       "    allowfullscreen\n",
       "></iframe>\n"
      ]
     },
     "metadata": {},
     "output_type": "display_data"
    }
   ],
   "source": [
    "plot_sankey(df_nh3, \"Ammonia\")"
   ]
  },
  {
   "cell_type": "markdown",
   "metadata": {},
   "source": [
    "<h3> Global Iron/Steel Trade Flows </h3>\n",
    "<h4> 2013 - Present </h4>"
   ]
  },
  {
   "cell_type": "code",
   "execution_count": 83,
   "metadata": {},
   "outputs": [
    {
     "name": "stdout",
     "output_type": "stream",
     "text": [
      "  reporterDesc    partnerDesc  primaryValue  netWgt\n",
      "0       Canada            USA  7.698235e+10     0.0\n",
      "1        China  Rep. of Korea  6.752849e+10     0.0\n",
      "2    Indonesia          China  6.670872e+10     0.0\n",
      "3        Japan  Rep. of Korea  6.317437e+10     0.0\n",
      "4          USA         Mexico  5.963444e+10     0.0\n",
      "5        Japan          China  5.894774e+10     0.0\n",
      "6          USA         Canada  5.870034e+10     0.0\n",
      "7       Brazil            USA  5.154907e+10     0.0\n",
      "8        Japan       Thailand  4.804599e+10     0.0\n",
      "9        China       Viet Nam  4.724010e+10     0.0\n"
     ]
    },
    {
     "data": {
      "text/html": [
       "<iframe\n",
       "    scrolling=\"no\"\n",
       "    width=\"100%\"\n",
       "    height=\"545px\"\n",
       "    src=\"iframe_figures/figure_83.html\"\n",
       "    frameborder=\"0\"\n",
       "    allowfullscreen\n",
       "></iframe>\n"
      ]
     },
     "metadata": {},
     "output_type": "display_data"
    }
   ],
   "source": [
    "plot_sankey(df_ironsteel, \"Iron/Steel\")"
   ]
  },
  {
   "cell_type": "code",
   "execution_count": 1,
   "metadata": {},
   "outputs": [
    {
     "name": "stdout",
     "output_type": "stream",
     "text": [
      "Name: pandoc\n",
      "Version: 2.4\n",
      "Summary: Pandoc Documents for Python\n",
      "Home-page: UNKNOWN\n",
      "Author: SÃ©bastien BoisgÃ©rault\n",
      "Author-email: Sebastien.Boisgerault@minesparis.psl.eu\n",
      "License: MIT License\n",
      "Location: c:\\program files\\python37\\lib\\site-packages\n",
      "Requires: ply, plumbum\n",
      "Required-by: \n"
     ]
    }
   ],
   "source": [
    "!pip show pandoc"
   ]
  },
  {
   "cell_type": "code",
   "execution_count": null,
   "metadata": {},
   "outputs": [],
   "source": []
  },
  {
   "cell_type": "markdown",
   "metadata": {},
   "source": [
    "<h3> Supply Side </h3>"
   ]
  },
  {
   "cell_type": "code",
   "execution_count": 86,
   "metadata": {},
   "outputs": [],
   "source": [
    "FILE_COSTS = \"Techno-Economic Energy Dataset for Hydrogen Pathways Modelling.xlsx\"\n",
    "\n",
    "df_capcosts = pd.read_excel(FILE_COSTS, sheet_name=\"CAPITAL COST\", engine=\"openpyxl\")"
   ]
  },
  {
   "cell_type": "code",
   "execution_count": 88,
   "metadata": {},
   "outputs": [
    {
     "data": {
      "text/html": [
       "<div>\n",
       "<style scoped>\n",
       "    .dataframe tbody tr th:only-of-type {\n",
       "        vertical-align: middle;\n",
       "    }\n",
       "\n",
       "    .dataframe tbody tr th {\n",
       "        vertical-align: top;\n",
       "    }\n",
       "\n",
       "    .dataframe thead th {\n",
       "        text-align: right;\n",
       "    }\n",
       "</style>\n",
       "<table border=\"1\" class=\"dataframe\">\n",
       "  <thead>\n",
       "    <tr style=\"text-align: right;\">\n",
       "      <th></th>\n",
       "      <th>Category</th>\n",
       "      <th>Technology</th>\n",
       "      <th>Code</th>\n",
       "      <th>Unit</th>\n",
       "      <th>Reference</th>\n",
       "      <th>2021</th>\n",
       "      <th>2022</th>\n",
       "      <th>2023</th>\n",
       "      <th>2024</th>\n",
       "      <th>2025</th>\n",
       "      <th>...</th>\n",
       "      <th>2041</th>\n",
       "      <th>2042</th>\n",
       "      <th>2043</th>\n",
       "      <th>2044</th>\n",
       "      <th>2045</th>\n",
       "      <th>2046</th>\n",
       "      <th>2047</th>\n",
       "      <th>2048</th>\n",
       "      <th>2049</th>\n",
       "      <th>2050</th>\n",
       "    </tr>\n",
       "  </thead>\n",
       "  <tbody>\n",
       "    <tr>\n",
       "      <th>0</th>\n",
       "      <td>Power generation \\n(Dedicated Units)</td>\n",
       "      <td>Solar PV</td>\n",
       "      <td>PWRSOL002</td>\n",
       "      <td>MUSD/(PJ/year)</td>\n",
       "      <td>NREL, 2022</td>\n",
       "      <td>36.123795</td>\n",
       "      <td>34.697315</td>\n",
       "      <td>33.270836</td>\n",
       "      <td>31.844356</td>\n",
       "      <td>30.417877</td>\n",
       "      <td>...</td>\n",
       "      <td>21.003050</td>\n",
       "      <td>20.795556</td>\n",
       "      <td>20.588063</td>\n",
       "      <td>20.380569</td>\n",
       "      <td>20.173076</td>\n",
       "      <td>19.965582</td>\n",
       "      <td>19.758089</td>\n",
       "      <td>19.550595</td>\n",
       "      <td>19.343102</td>\n",
       "      <td>19.135608</td>\n",
       "    </tr>\n",
       "    <tr>\n",
       "      <th>1</th>\n",
       "      <td>NaN</td>\n",
       "      <td>Onshore wind</td>\n",
       "      <td>PWRONW002</td>\n",
       "      <td>MUSD/(PJ/year)</td>\n",
       "      <td>NREL, 2022</td>\n",
       "      <td>42.997088</td>\n",
       "      <td>41.436661</td>\n",
       "      <td>39.876234</td>\n",
       "      <td>38.315806</td>\n",
       "      <td>36.755379</td>\n",
       "      <td>...</td>\n",
       "      <td>25.768385</td>\n",
       "      <td>25.478853</td>\n",
       "      <td>25.189321</td>\n",
       "      <td>24.899788</td>\n",
       "      <td>24.610256</td>\n",
       "      <td>24.320723</td>\n",
       "      <td>24.031191</td>\n",
       "      <td>23.741659</td>\n",
       "      <td>23.452126</td>\n",
       "      <td>23.162594</td>\n",
       "    </tr>\n",
       "    <tr>\n",
       "      <th>2</th>\n",
       "      <td>Hydrogen Production</td>\n",
       "      <td>Steam Methane Reforming plant</td>\n",
       "      <td>UPSSMR</td>\n",
       "      <td>MUSD/(PJ/year)</td>\n",
       "      <td>De Vos et al., 2018</td>\n",
       "      <td>20.756745</td>\n",
       "      <td>20.617674</td>\n",
       "      <td>20.479536</td>\n",
       "      <td>20.342323</td>\n",
       "      <td>20.206030</td>\n",
       "      <td>...</td>\n",
       "      <td>18.145459</td>\n",
       "      <td>18.023884</td>\n",
       "      <td>17.903124</td>\n",
       "      <td>17.783173</td>\n",
       "      <td>17.664026</td>\n",
       "      <td>17.545677</td>\n",
       "      <td>17.428121</td>\n",
       "      <td>17.311353</td>\n",
       "      <td>17.195366</td>\n",
       "      <td>17.080158</td>\n",
       "    </tr>\n",
       "    <tr>\n",
       "      <th>3</th>\n",
       "      <td>NaN</td>\n",
       "      <td>Steam Methane Reforming plant + CCS</td>\n",
       "      <td>UPSSMRCCS</td>\n",
       "      <td>MUSD/(PJ/year)</td>\n",
       "      <td>De Vos et al., 2018</td>\n",
       "      <td>34.081428</td>\n",
       "      <td>33.948510</td>\n",
       "      <td>33.816111</td>\n",
       "      <td>33.684228</td>\n",
       "      <td>33.552859</td>\n",
       "      <td>...</td>\n",
       "      <td>31.519301</td>\n",
       "      <td>31.396376</td>\n",
       "      <td>31.273930</td>\n",
       "      <td>31.151962</td>\n",
       "      <td>31.030469</td>\n",
       "      <td>30.909450</td>\n",
       "      <td>30.788903</td>\n",
       "      <td>30.668827</td>\n",
       "      <td>30.549218</td>\n",
       "      <td>30.430076</td>\n",
       "    </tr>\n",
       "    <tr>\n",
       "      <th>4</th>\n",
       "      <td>NaN</td>\n",
       "      <td>Coal gassification+CCS</td>\n",
       "      <td>UPSCGS</td>\n",
       "      <td>MUSD/(PJ/year)</td>\n",
       "      <td>Oshiro &amp; Fujimori, 2022</td>\n",
       "      <td>92.560883</td>\n",
       "      <td>92.560883</td>\n",
       "      <td>92.560883</td>\n",
       "      <td>92.560883</td>\n",
       "      <td>92.560883</td>\n",
       "      <td>...</td>\n",
       "      <td>92.560883</td>\n",
       "      <td>92.560883</td>\n",
       "      <td>92.560883</td>\n",
       "      <td>92.560883</td>\n",
       "      <td>92.560883</td>\n",
       "      <td>92.560883</td>\n",
       "      <td>92.560883</td>\n",
       "      <td>92.560883</td>\n",
       "      <td>92.560883</td>\n",
       "      <td>92.560883</td>\n",
       "    </tr>\n",
       "  </tbody>\n",
       "</table>\n",
       "<p>5 rows × 35 columns</p>\n",
       "</div>"
      ],
      "text/plain": [
       "                               Category                           Technology  \\\n",
       "0  Power generation \\n(Dedicated Units)                             Solar PV   \n",
       "1                                   NaN                         Onshore wind   \n",
       "2                   Hydrogen Production        Steam Methane Reforming plant   \n",
       "3                                   NaN  Steam Methane Reforming plant + CCS   \n",
       "4                                   NaN               Coal gassification+CCS   \n",
       "\n",
       "        Code            Unit                Reference       2021       2022  \\\n",
       "0  PWRSOL002  MUSD/(PJ/year)               NREL, 2022  36.123795  34.697315   \n",
       "1  PWRONW002  MUSD/(PJ/year)               NREL, 2022  42.997088  41.436661   \n",
       "2     UPSSMR  MUSD/(PJ/year)      De Vos et al., 2018  20.756745  20.617674   \n",
       "3  UPSSMRCCS  MUSD/(PJ/year)      De Vos et al., 2018  34.081428  33.948510   \n",
       "4     UPSCGS  MUSD/(PJ/year)  Oshiro & Fujimori, 2022  92.560883  92.560883   \n",
       "\n",
       "        2023       2024       2025  ...       2041       2042       2043  \\\n",
       "0  33.270836  31.844356  30.417877  ...  21.003050  20.795556  20.588063   \n",
       "1  39.876234  38.315806  36.755379  ...  25.768385  25.478853  25.189321   \n",
       "2  20.479536  20.342323  20.206030  ...  18.145459  18.023884  17.903124   \n",
       "3  33.816111  33.684228  33.552859  ...  31.519301  31.396376  31.273930   \n",
       "4  92.560883  92.560883  92.560883  ...  92.560883  92.560883  92.560883   \n",
       "\n",
       "        2044       2045       2046       2047       2048       2049       2050  \n",
       "0  20.380569  20.173076  19.965582  19.758089  19.550595  19.343102  19.135608  \n",
       "1  24.899788  24.610256  24.320723  24.031191  23.741659  23.452126  23.162594  \n",
       "2  17.783173  17.664026  17.545677  17.428121  17.311353  17.195366  17.080158  \n",
       "3  31.151962  31.030469  30.909450  30.788903  30.668827  30.549218  30.430076  \n",
       "4  92.560883  92.560883  92.560883  92.560883  92.560883  92.560883  92.560883  \n",
       "\n",
       "[5 rows x 35 columns]"
      ]
     },
     "execution_count": 88,
     "metadata": {},
     "output_type": "execute_result"
    }
   ],
   "source": [
    "df_capcosts.head()"
   ]
  },
  {
   "cell_type": "markdown",
   "metadata": {},
   "source": [
    "<h3> Electrolyzer Costs</h3>"
   ]
  },
  {
   "cell_type": "code",
   "execution_count": 112,
   "metadata": {
    "jupyter": {
     "source_hidden": true
    }
   },
   "outputs": [
    {
     "data": {
      "text/html": [
       "<iframe\n",
       "    scrolling=\"no\"\n",
       "    width=\"100%\"\n",
       "    height=\"545px\"\n",
       "    src=\"iframe_figures/figure_112.html\"\n",
       "    frameborder=\"0\"\n",
       "    allowfullscreen\n",
       "></iframe>\n"
      ]
     },
     "metadata": {},
     "output_type": "display_data"
    }
   ],
   "source": [
    "df_alk = df_capcosts[df_capcosts[\"Technology\"]==\"ALK Electrolyzer\"][[year for year in range(2021, 2051)]]\n",
    "df_alk = df_alk.reset_index().drop(columns=\"index\").T.reset_index().rename(columns={\"index\":\"year\", 0:\"MUSD/(PJ/year)\"})\n",
    "px.bar(df_alk, x=\"year\", y=\"MUSD/(PJ/year)\", title=\"ALK Electrolyzer Cost Projections\")"
   ]
  },
  {
   "cell_type": "code",
   "execution_count": 111,
   "metadata": {
    "jupyter": {
     "source_hidden": true
    }
   },
   "outputs": [
    {
     "data": {
      "text/html": [
       "<iframe\n",
       "    scrolling=\"no\"\n",
       "    width=\"100%\"\n",
       "    height=\"545px\"\n",
       "    src=\"iframe_figures/figure_111.html\"\n",
       "    frameborder=\"0\"\n",
       "    allowfullscreen\n",
       "></iframe>\n"
      ]
     },
     "metadata": {},
     "output_type": "display_data"
    }
   ],
   "source": [
    "df_pem = df_capcosts[df_capcosts[\"Technology\"]==\"PEM Electrolyzer\"][[year for year in range(2021, 2051)]]\n",
    "df_pem = df_pem.reset_index().drop(columns=\"index\").T.reset_index().rename(columns={\"index\":\"year\", 0:\"MUSD/(PJ/year)\"})\n",
    "px.bar(df_pem, x=\"year\", y=\"MUSD/(PJ/year)\", title=\"PEM Electrolyzer Cost Projections\")"
   ]
  },
  {
   "cell_type": "markdown",
   "metadata": {},
   "source": [
    "df_soec = df_capcosts[df_capcosts[\"Technology\"]==\"SOEC Electrolyzer\"][[year for year in range(2021, 2051)]]\n",
    "df_soec = df_soec.reset_index().drop(columns=\"index\").T.reset_index().rename(columns={\"index\":\"year\", 0:\"MUSD/(PJ/year)\"})\n",
    "px.bar(df_soec, x=\"year\", y=\"MUSD/(PJ/year)\", title=\"Solid Oxide Electrolyzer Cell (SOEC) Electrolyzer Cost Projections\")"
   ]
  },
  {
   "cell_type": "markdown",
   "metadata": {},
   "source": [
    "<h3> Power Procurement Costs </h3>"
   ]
  },
  {
   "cell_type": "code",
   "execution_count": 115,
   "metadata": {
    "jupyter": {
     "source_hidden": true
    }
   },
   "outputs": [
    {
     "data": {
      "text/html": [
       "<iframe\n",
       "    scrolling=\"no\"\n",
       "    width=\"100%\"\n",
       "    height=\"545px\"\n",
       "    src=\"iframe_figures/figure_115.html\"\n",
       "    frameborder=\"0\"\n",
       "    allowfullscreen\n",
       "></iframe>\n"
      ]
     },
     "metadata": {},
     "output_type": "display_data"
    }
   ],
   "source": [
    "df_spv = df_capcosts[df_capcosts[\"Technology\"]==\"Solar PV\"][[year for year in range(2021, 2051)]]\n",
    "df_spv = df_spv.reset_index().drop(columns=\"index\").T.reset_index().rename(columns={\"index\":\"year\", 0:\"MUSD/(PJ/year)\"})\n",
    "px.bar(df_spv, x=\"year\", y=\"MUSD/(PJ/year)\", title=\"Solar PV Power Procurement Cost Projections\")"
   ]
  },
  {
   "cell_type": "code",
   "execution_count": 121,
   "metadata": {
    "jupyter": {
     "source_hidden": true
    }
   },
   "outputs": [
    {
     "data": {
      "text/html": [
       "<iframe\n",
       "    scrolling=\"no\"\n",
       "    width=\"100%\"\n",
       "    height=\"545px\"\n",
       "    src=\"iframe_figures/figure_121.html\"\n",
       "    frameborder=\"0\"\n",
       "    allowfullscreen\n",
       "></iframe>\n"
      ]
     },
     "metadata": {},
     "output_type": "display_data"
    }
   ],
   "source": [
    "df_w = df_capcosts[df_capcosts[\"Technology\"]==\"Onshore wind\"][[year for year in range(2021, 2051)]]\n",
    "df_w = df_w.reset_index().drop(columns=\"index\").T.reset_index().rename(columns={\"index\":\"year\", 0:\"MUSD/(PJ/year)\"})\n",
    "px.bar(df_w, x=\"year\", y=\"MUSD/(PJ/year)\", title=\"Onshore Wind Power Procurement Cost Projections\")"
   ]
  },
  {
   "cell_type": "markdown",
   "metadata": {},
   "source": [
    "<h3> H2 Transport & Distribution Costs </h3>"
   ]
  },
  {
   "cell_type": "code",
   "execution_count": 123,
   "metadata": {},
   "outputs": [
    {
     "data": {
      "text/html": [
       "<iframe\n",
       "    scrolling=\"no\"\n",
       "    width=\"100%\"\n",
       "    height=\"545px\"\n",
       "    src=\"iframe_figures/figure_123.html\"\n",
       "    frameborder=\"0\"\n",
       "    allowfullscreen\n",
       "></iframe>\n"
      ]
     },
     "metadata": {},
     "output_type": "display_data"
    }
   ],
   "source": [
    "df_pipeline = df_capcosts[df_capcosts[\"Technology\"]==\"Hydrogen pipeline\"][[year for year in range(2021, 2051)]]\n",
    "df_pipeline = df_pipeline.reset_index().drop(columns=\"index\").T.reset_index().rename(columns={\"index\":\"year\", 0:\"MUSD/(PJ/year)\"})\n",
    "px.bar(df_pipeline, x=\"year\", y=\"MUSD/(PJ/year)\", title=\"Hydrogen pipeline Cost Projections\")"
   ]
  },
  {
   "cell_type": "code",
   "execution_count": 125,
   "metadata": {
    "jupyter": {
     "source_hidden": true
    }
   },
   "outputs": [
    {
     "data": {
      "text/html": [
       "<iframe\n",
       "    scrolling=\"no\"\n",
       "    width=\"100%\"\n",
       "    height=\"545px\"\n",
       "    src=\"iframe_figures/figure_125.html\"\n",
       "    frameborder=\"0\"\n",
       "    allowfullscreen\n",
       "></iframe>\n"
      ]
     },
     "metadata": {},
     "output_type": "display_data"
    }
   ],
   "source": [
    "df_road = df_capcosts[df_capcosts[\"Technology\"]==\"Hydrogen transport by road\"][[year for year in range(2021, 2051)]]\n",
    "df_road = df_road.reset_index().drop(columns=\"index\").T.reset_index().rename(columns={\"index\":\"year\", 0:\"MUSD/(PJ/year)\"})\n",
    "px.bar(df_road, x=\"year\", y=\"MUSD/(PJ/year)\", title=\"Hydrogen Road Transport Cost Projections\")"
   ]
  }
 ],
 "metadata": {
  "kernelspec": {
   "display_name": "Python 3",
   "language": "python",
   "name": "python3"
  },
  "language_info": {
   "codemirror_mode": {
    "name": "ipython",
    "version": 3
   },
   "file_extension": ".py",
   "mimetype": "text/x-python",
   "name": "python",
   "nbconvert_exporter": "python",
   "pygments_lexer": "ipython3",
   "version": "3.7.4"
  }
 },
 "nbformat": 4,
 "nbformat_minor": 4
}
